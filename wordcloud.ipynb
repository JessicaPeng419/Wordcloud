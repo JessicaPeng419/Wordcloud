{
 "cells": [
  {
   "cell_type": "code",
   "execution_count": 1,
   "metadata": {},
   "outputs": [],
   "source": [
    "import jieba\n",
    "import pandas as pd"
   ]
  },
  {
   "cell_type": "code",
   "execution_count": 2,
   "metadata": {},
   "outputs": [
    {
     "name": "stderr",
     "output_type": "stream",
     "text": [
      "Building prefix dict from the default dictionary ...\n",
      "Dumping model to file cache C:\\Users\\DELL\\AppData\\Local\\Temp\\jieba.cache\n",
      "Loading model cost 1.668 seconds.\n",
      "Prefix dict has been built successfully.\n"
     ]
    }
   ],
   "source": [
    "pd_data = pd.read_excel('driver.xlsx')\n",
    "text = pd_data['工单描述'].tolist()\n",
    "wordlist = jieba.cut(''.join(text))\n",
    "result = ' '.join(wordlist)\n",
    "stop_words= open('stop_word.txt', encoding='utf8').read().split()\n",
    "ciyun_words = ''\n",
    "for word in result:\n",
    "    if word not in stop_words:\n",
    "        ciyun_words += word"
   ]
  },
  {
   "cell_type": "code",
   "execution_count": 3,
   "metadata": {},
   "outputs": [
    {
     "name": "stdout",
     "output_type": "stream",
     "text": [
      "['会员费', '抽成', '里程', '保证金', '押金', '运费', '车贴', '计费', '提现', '会员', '实际', '扣分', '申诉', '退车', '协商', '提成', '补贴', '降价', '运输局', '缴纳', '偏差', '取消', '导航', '退保', '垫付', '高速', '愿意', '时间', '进行', '罚款', '装货', '卸货', '运输', '降低', '行驶', '疫情', '发现', '判责', '号楼', '拉货', '收入', '压榨', '强制', '承担', '退费', '先生', '变相', '回程', '扰乱', '申请']\n"
     ]
    }
   ],
   "source": [
    "import jieba.analyse\n",
    "tag = jieba.analyse.extract_tags(sentence=ciyun_words, topK=50, withWeight=False)\n",
    "print(tag)\n",
    "content_text = ' '.join(tag)"
   ]
  },
  {
   "cell_type": "code",
   "execution_count": 4,
   "metadata": {},
   "outputs": [
    {
     "data": {
      "text/plain": [
       "<wordcloud.wordcloud.WordCloud at 0x2487f31f5e0>"
      ]
     },
     "execution_count": 4,
     "metadata": {},
     "output_type": "execute_result"
    }
   ],
   "source": [
    "from wordcloud import WordCloud\n",
    "wc = WordCloud(\n",
    "    width = 300,\n",
    "    height = 200,\n",
    "    background_color = 'white',\n",
    "    stopwords = stop_words,\n",
    "    max_font_size = 80,\n",
    "    min_font_size = 10,\n",
    "    max_words = 100,\n",
    "    scale = 2,\n",
    "    font_path = 'msyh.ttc')\n",
    "\n",
    "wc.generate(content_text)\n",
    "wc.to_file('cy.jpg')"
   ]
  }
 ],
 "metadata": {
  "kernelspec": {
   "display_name": "Python 3",
   "language": "python",
   "name": "python3"
  },
  "language_info": {
   "codemirror_mode": {
    "name": "ipython",
    "version": 3
   },
   "file_extension": ".py",
   "mimetype": "text/x-python",
   "name": "python",
   "nbconvert_exporter": "python",
   "pygments_lexer": "ipython3",
   "version": "3.8.3"
  }
 },
 "nbformat": 4,
 "nbformat_minor": 5
}
